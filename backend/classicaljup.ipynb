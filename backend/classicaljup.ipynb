{
 "cells": [
  {
   "cell_type": "code",
   "execution_count": 168,
   "metadata": {},
   "outputs": [],
   "source": [
    "import yfinance as yf\n",
    "import pandas as pd\n",
    "from datetime import datetime, timedelta\n",
    "import numpy as np\n",
    "from scipy.optimize import minimize"
   ]
  },
  {
   "cell_type": "code",
   "execution_count": 169,
   "metadata": {},
   "outputs": [],
   "source": [
    "tickers = ['NOW','TSLA','ABBV','MA', 'OXY']\n",
    "end_date = datetime(year=2021, month=12, day = 31)\n",
    "#end_date = datetime.today()\n",
    "start_date = end_date - timedelta(days = 2*365)\n"
   ]
  },
  {
   "cell_type": "code",
   "execution_count": 170,
   "metadata": {},
   "outputs": [
    {
     "name": "stderr",
     "output_type": "stream",
     "text": [
      "[*********************100%%**********************]  1 of 1 completed\n",
      "[*********************100%%**********************]  1 of 1 completed\n",
      "[*********************100%%**********************]  1 of 1 completed\n",
      "[*********************100%%**********************]  1 of 1 completed\n",
      "[*********************100%%**********************]  1 of 1 completed\n"
     ]
    }
   ],
   "source": [
    "adj_close_df = pd.DataFrame()\n",
    "for ticker in tickers:\n",
    "    data = yf.download(ticker, start = start_date,end = end_date)\n",
    "    adj_close_df[ticker] = data['Adj Close']\n"
   ]
  },
  {
   "cell_type": "code",
   "execution_count": 171,
   "metadata": {},
   "outputs": [
    {
     "name": "stdout",
     "output_type": "stream",
     "text": [
      "                   NOW        TSLA        ABBV          MA        OXY\n",
      "Date                                                                 \n",
      "2020-01-02  291.239990   28.684000   74.197624  296.263519  40.361671\n",
      "2020-01-03  291.100006   29.534000   73.493347  293.373047  41.338017\n",
      "2020-01-06  292.869995   30.102667   74.073334  294.154236  42.702991\n",
      "2020-01-07  292.910004   31.270666   73.650772  293.158203  42.911530\n",
      "2020-01-08  295.649994   32.809334   74.172760  298.330872  42.636639\n",
      "...                ...         ...         ...         ...        ...\n",
      "2021-12-23  648.570007  355.666656  121.959908  355.744965  28.273941\n",
      "2021-12-27  663.280029  364.646667  123.169518  355.478607  29.048166\n",
      "2021-12-28  654.000000  362.823334  123.151207  355.942352  28.891365\n",
      "2021-12-29  654.580017  362.063324  124.040092  356.445465  28.675755\n",
      "2021-12-30  654.539978  356.779999  124.562408  356.149475  28.391542\n",
      "\n",
      "[504 rows x 5 columns]\n"
     ]
    }
   ],
   "source": [
    "print(adj_close_df)"
   ]
  },
  {
   "cell_type": "code",
   "execution_count": 172,
   "metadata": {},
   "outputs": [],
   "source": [
    "log_returns = np.log(adj_close_df / adj_close_df.shift(1))"
   ]
  },
  {
   "cell_type": "code",
   "execution_count": 173,
   "metadata": {},
   "outputs": [],
   "source": [
    "log_returns = log_returns.dropna()"
   ]
  },
  {
   "cell_type": "code",
   "execution_count": 174,
   "metadata": {},
   "outputs": [
    {
     "data": {
      "text/html": [
       "<div>\n",
       "<style scoped>\n",
       "    .dataframe tbody tr th:only-of-type {\n",
       "        vertical-align: middle;\n",
       "    }\n",
       "\n",
       "    .dataframe tbody tr th {\n",
       "        vertical-align: top;\n",
       "    }\n",
       "\n",
       "    .dataframe thead th {\n",
       "        text-align: right;\n",
       "    }\n",
       "</style>\n",
       "<table border=\"1\" class=\"dataframe\">\n",
       "  <thead>\n",
       "    <tr style=\"text-align: right;\">\n",
       "      <th></th>\n",
       "      <th>NOW</th>\n",
       "      <th>TSLA</th>\n",
       "      <th>ABBV</th>\n",
       "      <th>MA</th>\n",
       "      <th>OXY</th>\n",
       "    </tr>\n",
       "    <tr>\n",
       "      <th>Date</th>\n",
       "      <th></th>\n",
       "      <th></th>\n",
       "      <th></th>\n",
       "      <th></th>\n",
       "      <th></th>\n",
       "    </tr>\n",
       "  </thead>\n",
       "  <tbody>\n",
       "    <tr>\n",
       "      <th>2020-01-03</th>\n",
       "      <td>-0.000481</td>\n",
       "      <td>0.029203</td>\n",
       "      <td>-0.009537</td>\n",
       "      <td>-0.009804</td>\n",
       "      <td>0.023902</td>\n",
       "    </tr>\n",
       "    <tr>\n",
       "      <th>2020-01-06</th>\n",
       "      <td>0.006062</td>\n",
       "      <td>0.019072</td>\n",
       "      <td>0.007861</td>\n",
       "      <td>0.002659</td>\n",
       "      <td>0.032486</td>\n",
       "    </tr>\n",
       "    <tr>\n",
       "      <th>2020-01-07</th>\n",
       "      <td>0.000137</td>\n",
       "      <td>0.038067</td>\n",
       "      <td>-0.005721</td>\n",
       "      <td>-0.003392</td>\n",
       "      <td>0.004872</td>\n",
       "    </tr>\n",
       "    <tr>\n",
       "      <th>2020-01-08</th>\n",
       "      <td>0.009311</td>\n",
       "      <td>0.048033</td>\n",
       "      <td>0.007062</td>\n",
       "      <td>0.017491</td>\n",
       "      <td>-0.006427</td>\n",
       "    </tr>\n",
       "    <tr>\n",
       "      <th>2020-01-09</th>\n",
       "      <td>0.012304</td>\n",
       "      <td>-0.022189</td>\n",
       "      <td>0.007678</td>\n",
       "      <td>0.013025</td>\n",
       "      <td>0.008633</td>\n",
       "    </tr>\n",
       "    <tr>\n",
       "      <th>...</th>\n",
       "      <td>...</td>\n",
       "      <td>...</td>\n",
       "      <td>...</td>\n",
       "      <td>...</td>\n",
       "      <td>...</td>\n",
       "    </tr>\n",
       "    <tr>\n",
       "      <th>2021-12-23</th>\n",
       "      <td>0.007180</td>\n",
       "      <td>0.056020</td>\n",
       "      <td>0.007845</td>\n",
       "      <td>0.008634</td>\n",
       "      <td>-0.002423</td>\n",
       "    </tr>\n",
       "    <tr>\n",
       "      <th>2021-12-27</th>\n",
       "      <td>0.022427</td>\n",
       "      <td>0.024935</td>\n",
       "      <td>0.009869</td>\n",
       "      <td>-0.000749</td>\n",
       "      <td>0.027015</td>\n",
       "    </tr>\n",
       "    <tr>\n",
       "      <th>2021-12-28</th>\n",
       "      <td>-0.014090</td>\n",
       "      <td>-0.005013</td>\n",
       "      <td>-0.000149</td>\n",
       "      <td>0.001304</td>\n",
       "      <td>-0.005413</td>\n",
       "    </tr>\n",
       "    <tr>\n",
       "      <th>2021-12-29</th>\n",
       "      <td>0.000886</td>\n",
       "      <td>-0.002097</td>\n",
       "      <td>0.007192</td>\n",
       "      <td>0.001412</td>\n",
       "      <td>-0.007491</td>\n",
       "    </tr>\n",
       "    <tr>\n",
       "      <th>2021-12-30</th>\n",
       "      <td>-0.000061</td>\n",
       "      <td>-0.014700</td>\n",
       "      <td>0.004202</td>\n",
       "      <td>-0.000831</td>\n",
       "      <td>-0.009961</td>\n",
       "    </tr>\n",
       "  </tbody>\n",
       "</table>\n",
       "<p>503 rows × 5 columns</p>\n",
       "</div>"
      ],
      "text/plain": [
       "                 NOW      TSLA      ABBV        MA       OXY\n",
       "Date                                                        \n",
       "2020-01-03 -0.000481  0.029203 -0.009537 -0.009804  0.023902\n",
       "2020-01-06  0.006062  0.019072  0.007861  0.002659  0.032486\n",
       "2020-01-07  0.000137  0.038067 -0.005721 -0.003392  0.004872\n",
       "2020-01-08  0.009311  0.048033  0.007062  0.017491 -0.006427\n",
       "2020-01-09  0.012304 -0.022189  0.007678  0.013025  0.008633\n",
       "...              ...       ...       ...       ...       ...\n",
       "2021-12-23  0.007180  0.056020  0.007845  0.008634 -0.002423\n",
       "2021-12-27  0.022427  0.024935  0.009869 -0.000749  0.027015\n",
       "2021-12-28 -0.014090 -0.005013 -0.000149  0.001304 -0.005413\n",
       "2021-12-29  0.000886 -0.002097  0.007192  0.001412 -0.007491\n",
       "2021-12-30 -0.000061 -0.014700  0.004202 -0.000831 -0.009961\n",
       "\n",
       "[503 rows x 5 columns]"
      ]
     },
     "execution_count": 174,
     "metadata": {},
     "output_type": "execute_result"
    }
   ],
   "source": [
    "log_returns"
   ]
  },
  {
   "cell_type": "code",
   "execution_count": 175,
   "metadata": {},
   "outputs": [],
   "source": [
    "cov_matrix = log_returns.cov() * 252"
   ]
  },
  {
   "cell_type": "code",
   "execution_count": 176,
   "metadata": {},
   "outputs": [
    {
     "data": {
      "text/html": [
       "<div>\n",
       "<style scoped>\n",
       "    .dataframe tbody tr th:only-of-type {\n",
       "        vertical-align: middle;\n",
       "    }\n",
       "\n",
       "    .dataframe tbody tr th {\n",
       "        vertical-align: top;\n",
       "    }\n",
       "\n",
       "    .dataframe thead th {\n",
       "        text-align: right;\n",
       "    }\n",
       "</style>\n",
       "<table border=\"1\" class=\"dataframe\">\n",
       "  <thead>\n",
       "    <tr style=\"text-align: right;\">\n",
       "      <th></th>\n",
       "      <th>NOW</th>\n",
       "      <th>TSLA</th>\n",
       "      <th>ABBV</th>\n",
       "      <th>MA</th>\n",
       "      <th>OXY</th>\n",
       "    </tr>\n",
       "  </thead>\n",
       "  <tbody>\n",
       "    <tr>\n",
       "      <th>NOW</th>\n",
       "      <td>0.187530</td>\n",
       "      <td>0.138205</td>\n",
       "      <td>0.046917</td>\n",
       "      <td>0.092767</td>\n",
       "      <td>0.090169</td>\n",
       "    </tr>\n",
       "    <tr>\n",
       "      <th>TSLA</th>\n",
       "      <td>0.138205</td>\n",
       "      <td>0.551751</td>\n",
       "      <td>0.053019</td>\n",
       "      <td>0.109883</td>\n",
       "      <td>0.172001</td>\n",
       "    </tr>\n",
       "    <tr>\n",
       "      <th>ABBV</th>\n",
       "      <td>0.046917</td>\n",
       "      <td>0.053019</td>\n",
       "      <td>0.082085</td>\n",
       "      <td>0.059795</td>\n",
       "      <td>0.090873</td>\n",
       "    </tr>\n",
       "    <tr>\n",
       "      <th>MA</th>\n",
       "      <td>0.092767</td>\n",
       "      <td>0.109883</td>\n",
       "      <td>0.059795</td>\n",
       "      <td>0.159376</td>\n",
       "      <td>0.173915</td>\n",
       "    </tr>\n",
       "    <tr>\n",
       "      <th>OXY</th>\n",
       "      <td>0.090169</td>\n",
       "      <td>0.172001</td>\n",
       "      <td>0.090873</td>\n",
       "      <td>0.173915</td>\n",
       "      <td>0.876859</td>\n",
       "    </tr>\n",
       "  </tbody>\n",
       "</table>\n",
       "</div>"
      ],
      "text/plain": [
       "           NOW      TSLA      ABBV        MA       OXY\n",
       "NOW   0.187530  0.138205  0.046917  0.092767  0.090169\n",
       "TSLA  0.138205  0.551751  0.053019  0.109883  0.172001\n",
       "ABBV  0.046917  0.053019  0.082085  0.059795  0.090873\n",
       "MA    0.092767  0.109883  0.059795  0.159376  0.173915\n",
       "OXY   0.090169  0.172001  0.090873  0.173915  0.876859"
      ]
     },
     "execution_count": 176,
     "metadata": {},
     "output_type": "execute_result"
    }
   ],
   "source": [
    "cov_matrix"
   ]
  },
  {
   "cell_type": "code",
   "execution_count": 177,
   "metadata": {},
   "outputs": [],
   "source": [
    "def standard_deviation(weights, cov_matrix):\n",
    "    variance = weights.T @ cov_matrix @ weights\n",
    "    return np.sqrt(variance)\n",
    "\n",
    "def expected_return(weights, log_returns):\n",
    "    return np.sum(log_returns.mean()*weights)*252\n",
    "\n",
    "def sharpe_ratio(weights, log_returns, cov_matrix, risk_free_rate):\n",
    "    return (expected_return(weights, log_returns) - risk_free_rate) / standard_deviation(weights, cov_matrix)"
   ]
  },
  {
   "cell_type": "code",
   "execution_count": 178,
   "metadata": {},
   "outputs": [],
   "source": [
    "risk_free_rate = .02\n",
    "\n",
    "def neg_sharpe_ratio(weights, log_returns, cov_matrix, risk_free_rate):\n",
    "    return -sharpe_ratio(weights, log_returns, cov_matrix, risk_free_rate)\n",
    "\n",
    "constraints = {'type': 'eq', 'fun': lambda weights: np.sum(weights) - 1}\n",
    "bounds = [(0, 0.5) for _ in range(len(tickers))]\n",
    "initial_weights = np.array([1/len(tickers)]*len(tickers))\n",
    "\n",
    "optimized_results = minimize(neg_sharpe_ratio, initial_weights, args=(log_returns, cov_matrix, risk_free_rate), method='SLSQP', constraints=constraints, bounds=bounds)"
   ]
  },
  {
   "cell_type": "code",
   "execution_count": 179,
   "metadata": {},
   "outputs": [
    {
     "name": "stdout",
     "output_type": "stream",
     "text": [
      "Optimal Weights:\n",
      "NOW: 0.0671\n",
      "TSLA: 0.5000\n",
      "ABBV: 0.4329\n",
      "MA: 0.0000\n",
      "OXY: 0.0000\n",
      "Expected Annual Return: 0.7710\n",
      "Expected Volatility: 0.4349\n",
      "Sharpe Ratio: 1.7270\n"
     ]
    }
   ],
   "source": [
    "optimal_weights = optimized_results.x\n",
    "\n",
    "print(\"Optimal Weights:\")\n",
    "for ticker, weight in zip(tickers, optimal_weights):\n",
    "    print(f\"{ticker}: {weight:.4f}\")\n",
    "\n",
    "optimal_portfolio_return = expected_return(optimal_weights, log_returns)\n",
    "optimal_portfolio_volatility = standard_deviation(optimal_weights, cov_matrix)\n",
    "optimal_sharpe_ratio = sharpe_ratio(optimal_weights, log_returns, cov_matrix, risk_free_rate)\n",
    "\n",
    "print(f\"Expected Annual Return: {optimal_portfolio_return:.4f}\")\n",
    "print(f\"Expected Volatility: {optimal_portfolio_volatility:.4f}\")\n",
    "print(f\"Sharpe Ratio: {optimal_sharpe_ratio:.4f}\")"
   ]
  },
  {
   "cell_type": "code",
   "execution_count": 180,
   "metadata": {},
   "outputs": [
    {
     "data": {
      "image/png": "[encoded data removed]",
      "text/plain": [
       "<Figure size 1000x600 with 1 Axes>"
      ]
     },
     "metadata": {},
     "output_type": "display_data"
    }
   ],
   "source": [
    "import matplotlib.pyplot as plt\n",
    "\n",
    "plt.figure(figsize=(10, 6))\n",
    "plt.bar(tickers, optimal_weights)\n",
    "\n",
    "plt.xlabel('Assets')\n",
    "plt.ylabel('Optimal Weights')\n",
    "plt.title('Optimal Portfolio Weights')\n",
    "\n",
    "plt.show()"
   ]
  },
  {
   "cell_type": "code",
   "execution_count": null,
   "metadata": {},
   "outputs": [],
   "source": []
  }
 ],
 "metadata": {
  "kernelspec": {
   "display_name": "Python 3",
   "language": "python",
   "name": "python3"
  },
  "language_info": {
   "codemirror_mode": {
    "name": "ipython",
    "version": 3
   },
   "file_extension": ".py",
   "mimetype": "text/x-python",
   "name": "python",
   "nbconvert_exporter": "python",
   "pygments_lexer": "ipython3",
   "version": "3.11.6"
  }
 },
 "nbformat": 4,
 "nbformat_minor": 2
}
